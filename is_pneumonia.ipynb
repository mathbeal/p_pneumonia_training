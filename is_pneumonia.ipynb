{
 "cells": [
  {
   "cell_type": "code",
   "execution_count": 1,
   "metadata": {},
   "outputs": [],
   "source": [
    "# Sources:\n",
    "#  Learning SimpleITK: https://github.com/InsightSoftwareConsortium/SimpleITK-Notebooks/tree/master/Python\n"
   ]
  },
  {
   "cell_type": "markdown",
   "metadata": {},
   "source": [
    "# List files (training {normal,peumonia}, testing)"
   ]
  },
  {
   "cell_type": "code",
   "execution_count": 2,
   "metadata": {},
   "outputs": [
    {
     "name": "stdout",
     "output_type": "stream",
     "text": [
      "train_normal_files 1341\n",
      "train_pneumo_files 3875\n",
      "test_normal_files 234\n",
      "test_pneumo_files 390\n"
     ]
    }
   ],
   "source": [
    "import os\n",
    "from glob import glob\n",
    "\n",
    "CUR_DIR = os.getcwd()\n",
    "\n",
    "PIC_DIR = f'{CUR_DIR}/chest-xray-pneumonia/chest_xray/chest_xray/'\n",
    "assert os.path.exists(PIC_DIR), f'missing folder {PIC_DIR}'\n",
    "\n",
    "get_jpeg = lambda path: glob(f'{path}/*.jpeg')\n",
    "\n",
    "train_normal_files = get_jpeg(f'{PIC_DIR}/train/NORMAL/')\n",
    "train_pneumo_files =  get_jpeg(f'{PIC_DIR}/train/PNEUMONIA/')\n",
    "\n",
    "test_normal_files = get_jpeg(f'{PIC_DIR}/test/NORMAL/')\n",
    "test_pneumo_files =  get_jpeg(f'{PIC_DIR}/test/PNEUMONIA/')\n",
    "\n",
    "names = ('train_normal_files', 'train_pneumo_files', 'test_normal_files', 'test_pneumo_files')\n",
    "sets = (train_normal_files, train_pneumo_files, test_normal_files, test_pneumo_files)\n",
    "\n",
    "for name, files in zip(names, sets):\n",
    "    print(name, len(files))"
   ]
  },
  {
   "cell_type": "markdown",
   "metadata": {},
   "source": [
    "# Checking Width/Height/Dim of each image"
   ]
  },
  {
   "cell_type": "code",
   "execution_count": 31,
   "metadata": {},
   "outputs": [
    {
     "data": {
      "image/png": "[encoded data removed]",
      "text/plain": [
       "<Figure size 432x288 with 1 Axes>"
      ]
     },
     "metadata": {
      "needs_background": "light"
     },
     "output_type": "display_data"
    },
    {
     "name": "stdout",
     "output_type": "stream",
     "text": [
      "       n_dims  n_comp_per_pix        width       height   depth\n",
      "count  5840.0     5840.000000  5840.000000  5840.000000  5840.0\n",
      "mean      2.0        1.096918  1327.825000   970.600685     0.0\n",
      "std       0.0        0.429505   363.764314   383.681911     0.0\n",
      "min       2.0        1.000000   384.000000   127.000000     0.0\n",
      "25%       2.0        1.000000  1056.000000   688.000000     0.0\n",
      "50%       2.0        1.000000  1281.000000   886.000000     0.0\n",
      "75%       2.0        1.000000  1560.000000  1187.000000     0.0\n",
      "max       2.0        3.000000  2916.000000  2713.000000     0.0\n"
     ]
    }
   ],
   "source": [
    "import SimpleITK as sitk\n",
    "from pandas import DataFrame\n",
    "import matplotlib.pyplot as plt\n",
    "\n",
    "# Checking dimensions of images\n",
    "records = []\n",
    "for name, pics in zip(names, sets):\n",
    "    tp = {'name': name}\n",
    "    for pic in pics:\n",
    "        img = sitk.ReadImage(pic)\n",
    "        tp['fname'] = pic\n",
    "        tp['n_dims'] = img.GetDimension()\n",
    "        tp['n_comp_per_pix'] = img.GetNumberOfComponentsPerPixel()\n",
    "        tp['width'] = img.GetWidth()\n",
    "        tp['height'] = img.GetHeight()\n",
    "        tp['depth'] = img.GetDepth()\n",
    "        tp['spacing'] = img.GetSpacing()\n",
    "        records.append(tp.copy())\n",
    "\n",
    "df = DataFrame.from_records(records)\n",
    "df.boxplot()\n",
    "plt.show()\n",
    "print(df.describe())"
   ]
  },
  {
   "cell_type": "code",
   "execution_count": 32,
   "metadata": {},
   "outputs": [],
   "source": [
    "# Resize is needed\n",
    "# sitk.WriteImage(img, os.path.join(OUTPUT_DIR, 'SimpleITK.png'))"
   ]
  }
 ],
 "metadata": {
  "kernelspec": {
   "display_name": "Python 3",
   "language": "python",
   "name": "python3"
  },
  "language_info": {
   "codemirror_mode": {
    "name": "ipython",
    "version": 3
   },
   "file_extension": ".py",
   "mimetype": "text/x-python",
   "name": "python",
   "nbconvert_exporter": "python",
   "pygments_lexer": "ipython3",
   "version": "3.7.3"
  }
 },
 "nbformat": 4,
 "nbformat_minor": 2
}
